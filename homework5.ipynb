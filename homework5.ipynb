{
 "cells": [
  {
   "cell_type": "code",
   "execution_count": 1,
   "metadata": {},
   "outputs": [],
   "source": [
    "import cv2\n",
    "import numpy as np"
   ]
  },
  {
   "cell_type": "code",
   "execution_count": 3,
   "metadata": {},
   "outputs": [],
   "source": [
    "# 이미지 읽기\n",
    "img1 = cv2.imread(\"pencilcase.jpg\", cv2.IMREAD_GRAYSCALE)\n",
    "img2 = cv2.imread(\"Me.jpg\", cv2.IMREAD_GRAYSCALE)\n",
    "\n",
    "# 이미지를 작게 조정 (비율 조정, 예: 50%)\n",
    "scale_percent = 50  # 이미지 크기의 50%\n",
    "width1 = int(img1.shape[1] * scale_percent / 100)\n",
    "height1 = int(img1.shape[0] * scale_percent / 100)\n",
    "width2 = int(img2.shape[1] * scale_percent / 100)\n",
    "height2 = int(img2.shape[0] * scale_percent / 100)\n",
    "\n",
    "img1_resized = cv2.resize(img1, (width1, height1))\n",
    "img2_resized = cv2.resize(img2, (width2, height2))\n",
    "\n",
    "# ORB Detector\n",
    "orb = cv2.ORB_create()\n",
    "kp1, des1 = orb.detectAndCompute(img1_resized, None)\n",
    "kp2, des2 = orb.detectAndCompute(img2_resized, None)\n",
    "\n",
    "# Brute Force Matching\n",
    "bf = cv2.BFMatcher(cv2.NORM_HAMMING, crossCheck=True)\n",
    "matches = bf.match(des1, des2)\n",
    "matches = sorted(matches, key=lambda x: x.distance)\n",
    "\n",
    "# 매칭 결과 그리기\n",
    "matching_result = cv2.drawMatches(img1_resized, kp1, img2_resized, kp2, matches[:50], None, flags=2)\n",
    "\n",
    "# 이미지 표시\n",
    "cv2.imshow(\"Img1\", img1_resized)\n",
    "cv2.imshow(\"Img2\", img2_resized)\n",
    "cv2.imshow(\"Matching result\", matching_result)\n",
    "\n",
    "cv2.waitKey(0)\n",
    "cv2.destroyAllWindows()\n"
   ]
  }
 ],
 "metadata": {
  "kernelspec": {
   "display_name": "Python 3",
   "language": "python",
   "name": "python3"
  },
  "language_info": {
   "codemirror_mode": {
    "name": "ipython",
    "version": 3
   },
   "file_extension": ".py",
   "mimetype": "text/x-python",
   "name": "python",
   "nbconvert_exporter": "python",
   "pygments_lexer": "ipython3",
   "version": "3.8.19"
  }
 },
 "nbformat": 4,
 "nbformat_minor": 2
}
