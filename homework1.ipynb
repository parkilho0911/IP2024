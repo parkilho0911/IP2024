{
 "cells": [
  {
   "cell_type": "markdown",
   "metadata": {},
   "source": [
    "HomeWork1"
   ]
  },
  {
   "cell_type": "code",
   "execution_count": 27,
   "metadata": {},
   "outputs": [],
   "source": [
    "import cv2\n",
    "import numpy as np"
   ]
  },
  {
   "cell_type": "code",
   "execution_count": 28,
   "metadata": {},
   "outputs": [],
   "source": [
    "def nothing(x):\n",
    "    pass"
   ]
  },
  {
   "cell_type": "code",
   "execution_count": 29,
   "metadata": {},
   "outputs": [],
   "source": [
    "drawing = False  # true if mouse is pressed\n",
    "mode = True  # if True, draw rectangle. Press 'm' to toggle to curve\n",
    "ix, iy = -1, -1\n",
    "font = cv2.FONT_HERSHEY_SIMPLEX\n",
    "click_position = None  # 클릭한 좌표\n",
    "release_position = None  # 마우스를 뗀 좌표\n",
    "alpha = 1.0  # 초기 투명도 값 (완전 불투명)\n",
    "rect_start = None  # 사각형 시작 좌표\n",
    "rect_end = None  # 사각형 끝 좌표\n",
    "img = cv2.imread('Everest_North_Face_toward_Base_Camp_Tibet_Luca_Galuzzi_2006.jpg')  # 이미지 파일 경로 확인\n",
    "img_original = img.copy()  # 원본 이미지를 복사하여 저장\n",
    "\n",
    "# mouse callback function\n",
    "def draw_shape(event, x, y, flags, param):\n",
    "    global ix, iy, drawing, mode, img, click_position, release_position, rect_start, rect_end\n",
    "    if event == cv2.EVENT_LBUTTONDOWN:\n",
    "        drawing = True\n",
    "        ix, iy = x, y\n",
    "        click_position = (ix, iy)  # 클릭한 좌표 저장\n",
    "    elif event == cv2.EVENT_MOUSEMOVE:\n",
    "        if drawing:\n",
    "            img = img_original.copy()  # 매번 원본 이미지를 복사\n",
    "            if mode:\n",
    "                cv2.rectangle(img, (ix, iy), (x, y), (0, 0, 255), -1)  # 사각형 그리기\n",
    "            cv2.imshow('image', img)  # 사각형을 그린 이미지 표시\n",
    "    elif event == cv2.EVENT_LBUTTONUP:\n",
    "        drawing = False\n",
    "        release_position = (x, y)  # 마우스를 뗀 좌표 저장\n",
    "        rect_start = (ix, iy)\n",
    "        rect_end = (x, y)  # 사각형의 시작과 끝 좌표 저장\n",
    "        if mode:\n",
    "            img = img_original.copy()  # 원본 이미지를 복사\n",
    "            cv2.rectangle(img, rect_start, rect_end, (0, 0, 255), -1)  # 사각형 그리기\n",
    "            cv2.imshow('image', img)  # 사각형을 그린 이미지 표시"
   ]
  },
  {
   "cell_type": "code",
   "execution_count": 30,
   "metadata": {},
   "outputs": [],
   "source": [
    "# 트랙바 콜백 함수\n",
    "def update_alpha(val):\n",
    "    global alpha, rect_start, rect_end, img, img_original\n",
    "    alpha = val / 10.0  # 트랙바 값을 0에서 1 사이의 값으로 변환\n",
    "    img = img_original.copy()  # 원본 이미지를 복사\n",
    "    if rect_start and rect_end:  # 사각형이 그려진 좌표가 있을 때만 투명도 조정\n",
    "        overlay = img.copy()\n",
    "        cv2.rectangle(overlay, rect_start, rect_end, (0, 0, 255), -1)  # 사각형 그리기\n",
    "        # 알파 블렌딩을 통해 투명도를 적용\n",
    "        cv2.addWeighted(overlay, alpha, img, 1 - alpha, 0, img)\n",
    "        cv2.imshow('image', img)"
   ]
  },
  {
   "cell_type": "code",
   "execution_count": 31,
   "metadata": {},
   "outputs": [],
   "source": [
    "# 초기 설정\n",
    "cv2.namedWindow('image')\n",
    "cv2.setMouseCallback('image', draw_shape)\n",
    "\n",
    "# 트랙바 생성 및 초기화\n",
    "cv2.createTrackbar('value', 'image', 10, 10, update_alpha)  # 초기값 10 = 완전 불투명\n",
    "\n",
    "while True:\n",
    "    cv2.imshow('image', img)  # 이미지 표시\n",
    "\n",
    "    # 텍스트 표시: 클릭한 좌표와 뗀 좌표가 정해졌다면\n",
    "    if click_position and release_position:\n",
    "        cv2.putText(img, f'Mouse Position ({click_position[0]}, {click_position[1]}) - ({release_position[0]}, {release_position[1]})', \n",
    "                    (10, 50), font, 0.7, (255, 255, 255), 1, cv2.LINE_AA)\n",
    "\n",
    "    k = cv2.waitKey(1) & 0xFF\n",
    "    if k == ord('m'):\n",
    "        mode = not mode\n",
    "    elif k == 27:  # Esc 키를 누르면 종료\n",
    "        break\n",
    "\n",
    "cv2.destroyAllWindows()"
   ]
  }
 ],
 "metadata": {
  "kernelspec": {
   "display_name": "Python 3",
   "language": "python",
   "name": "python3"
  },
  "language_info": {
   "codemirror_mode": {
    "name": "ipython",
    "version": 3
   },
   "file_extension": ".py",
   "mimetype": "text/x-python",
   "name": "python",
   "nbconvert_exporter": "python",
   "pygments_lexer": "ipython3",
   "version": "3.8.19"
  }
 },
 "nbformat": 4,
 "nbformat_minor": 2
}
